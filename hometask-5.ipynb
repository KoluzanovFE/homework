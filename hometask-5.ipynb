{
 "cells": [
  {
   "cell_type": "markdown",
   "metadata": {},
   "source": [
    "# Задача 1."
   ]
  },
  {
   "cell_type": "markdown",
   "metadata": {},
   "source": [
    "Смоделировать выборку объема 1000 из дискретного распределения на множестве цифр 0, 1, 2, ..., 9 с весами 0.12, 0.3, 0.167, 0.24, 0.31, 0.54, 0.111, 0.02, 0.001, 0.2. По выборке построить гистограмму. Оптимизируйте алгоритм, упорядочив веса. Сравните время генерации выборки с неупорядоченными и упорядоченными весами."
   ]
  },
  {
   "cell_type": "code",
   "execution_count": 52,
   "metadata": {},
   "outputs": [
    {
     "name": "stdout",
     "output_type": "stream",
     "text": [
      "896 µs ± 7.91 µs per loop (mean ± std. dev. of 7 runs, 1000 loops each)\n"
     ]
    }
   ],
   "source": [
    "%%timeit\n",
    "#неупорядоченный массив\n",
    "\n",
    "\n",
    "\n",
    "import numpy as np\n",
    "import  random\n",
    "import matplotlib.pyplot as plt\n",
    "import time\n",
    "\n",
    "a = [0.12, 0.3, 0.167, 0.24, 0.31, 0.54, 0.111, 0.02, 0.001, 0.2]\n",
    "b = [0]\n",
    "\n",
    "for i in range(10):\n",
    "    b.append(a[i] + b[i])\n",
    "\n",
    "ran = [random.uniform(0, 2.009) for i in range(1000)]\n",
    "\n",
    "for i in range(len(ran)):\n",
    "    for j in range(10):\n",
    "        if(ran[i] >= b[j] and ran[i] <=b[j+1]):\n",
    "            ran[i] = j\n",
    "            break"
   ]
  },
  {
   "cell_type": "code",
   "execution_count": 53,
   "metadata": {},
   "outputs": [
    {
     "data": {
      "image/png": "[encoded data removed]",
      "text/plain": [
       "<matplotlib.figure.Figure at 0x1d0d3470400>"
      ]
     },
     "metadata": {},
     "output_type": "display_data"
    }
   ],
   "source": [
    "plt.hist(ran, normed=True)\n",
    "plt.xticks(np.arange(0, 10, 1))\n",
    "plt.show()"
   ]
  },
  {
   "cell_type": "code",
   "execution_count": 54,
   "metadata": {},
   "outputs": [
    {
     "name": "stdout",
     "output_type": "stream",
     "text": [
      "806 µs ± 6.5 µs per loop (mean ± std. dev. of 7 runs, 1000 loops each)\n"
     ]
    }
   ],
   "source": [
    "%%timeit\n",
    "#уппорядоченный массив\n",
    "\n",
    "\n",
    "\n",
    "def swap(a,i,j):\n",
    "    t = a[i]\n",
    "    a[i] = a[j]\n",
    "    a[j] = t\n",
    "\n",
    "c = [0, 1, 2, 3, 4, 5, 6, 7, 8, 9]\n",
    "\n",
    "for i in range(10):\n",
    "    for j in range(10):\n",
    "        if a[i] > a[j]:\n",
    "            swap(a,i,j)\n",
    "            swap(c,i,j)\n",
    "\n",
    "\n",
    "\n",
    "\n",
    "b = [0]\n",
    "\n",
    "for i in range(10):\n",
    "      b.append(a[i] + b[i])\n",
    "\n",
    "\n",
    "\n",
    "ran = [random.uniform(0, 2.009) for i in range(1000)]\n",
    "\n",
    "for i in range(len(ran)):\n",
    "    for j in range(10):\n",
    "        if(ran[i] >= b[j] and ran[i] <=b[j+1]):\n",
    "            ran[i] = c[j]\n",
    "            break\n",
    "            \n",
    "            \n"
   ]
  },
  {
   "cell_type": "code",
   "execution_count": 55,
   "metadata": {},
   "outputs": [
    {
     "data": {
      "image/png": "[encoded data removed]",
      "text/plain": [
       "<matplotlib.figure.Figure at 0x1d0d38aee10>"
      ]
     },
     "metadata": {},
     "output_type": "display_data"
    }
   ],
   "source": [
    "plt.hist(ran, normed=True)\n",
    "plt.xticks(np.arange(0, 10, 1))\n",
    "plt.show()"
   ]
  },
  {
   "cell_type": "markdown",
   "metadata": {},
   "source": [
    "# Задача 2. "
   ]
  },
  {
   "cell_type": "markdown",
   "metadata": {},
   "source": [
    "Смоделируйте выборку размера 1000 из распределения  Exp(λ) . Постройте выборочную гистограмму и точный график плотности распределения."
   ]
  },
  {
   "cell_type": "code",
   "execution_count": null,
   "metadata": {},
   "outputs": [],
   "source": []
  }
 ],
 "metadata": {
  "kernelspec": {
   "display_name": "Python 3",
   "language": "python",
   "name": "python3"
  },
  "language_info": {
   "codemirror_mode": {
    "name": "ipython",
    "version": 3
   },
   "file_extension": ".py",
   "mimetype": "text/x-python",
   "name": "python",
   "nbconvert_exporter": "python",
   "pygments_lexer": "ipython3",
   "version": "3.6.4"
  }
 },
 "nbformat": 4,
 "nbformat_minor": 2
}
